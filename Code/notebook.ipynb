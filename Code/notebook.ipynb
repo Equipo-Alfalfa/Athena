{
  "cells": [
    {
      "cell_type": "code",
      "execution_count": 1,
      "metadata": {
        "id": "M4OATcho98AW"
      },
      "outputs": [],
      "source": [
        "from transformers import BertTokenizer\n",
        "import pandas as pd\n",
        "from tensorflow.keras import layers, models\n",
        "import numpy as np\n",
        "from sklearn.metrics import accuracy_score, recall_score, f1_score, classification_report"
      ]
    },
    {
      "cell_type": "code",
      "execution_count": 2,
      "metadata": {
        "id": "B4iljxoT98Aa"
      },
      "outputs": [],
      "source": [
        "def split_data(df):\n",
        "    from sklearn.model_selection import train_test_split\n",
        "    x = df['text']\n",
        "    y = df['label']\n",
        "    return train_test_split(x,y,test_size = 0.2,random_state=42)\n",
        "\n",
        "def token_data(texts, tokenizer, max_length=512):\n",
        "    encodings = tokenizer(\n",
        "        texts,\n",
        "        truncation=True,\n",
        "        padding=True,\n",
        "        max_length=max_length,\n",
        "        return_tensors='tf'\n",
        "    )\n",
        "    return encodings\n",
        "\n",
        "def performance(y_true,y_pred):\n",
        "# y_pred son los valores predecidos mientras que y_true son los valores reales\n",
        "    accuracy = accuracy_score(y_true,y_pred)\n",
        "    recall = recall_score(y_true, y_pred, average='weighted')\n",
        "    f1 = f1_score(y_true, y_pred, average='weighted')\n",
        "    print(classification_report(y_true, y_pred))\n",
        "    return{\n",
        "        'accuracy':accuracy,\n",
        "        'recall':recall,\n",
        "        'f1':f1,\n",
        "    }\n",
        "\n",
        "\n",
        "def create_model(inputs, num,  num_filters=128, kernel_size=5, pool_size=2):\n",
        "    model = models.Sequential()\n",
        "    model.add(layers.Conv1D(num_filters, kernel_size, activation='gelu', input_shape=inputs))\n",
        "    model.add(layers.MaxPooling1D(pool_size=pool_size))\n",
        "    model.add(layers.BatchNormalization())\n",
        "    model.add(layers.Conv1D(num_filters * 2, kernel_size, activation='gelu'))\n",
        "    model.add(layers.MaxPooling1D(pool_size=pool_size))\n",
        "    model.add(layers.BatchNormalization())\n",
        "    model.add(layers.GlobalAveragePooling1D())\n",
        "    model.add(layers.Flatten())\n",
        "    model.add(layers.Dropout(0.5))\n",
        "    model.add(layers.Dense(128, activation = 'gelu'))\n",
        "    model.add(layers.Dense(num,activation = 'softmax'))\n",
        "    return model"
      ]
    },
    {
      "cell_type": "code",
      "execution_count": 7,
      "metadata": {
        "id": "pHaBWWcU98Ab"
      },
      "outputs": [],
      "source": [
        "def categorize(text):\n",
        "    categories = {\n",
        "        \"malware\": \"Malware\",\n",
        "        \"phishing\": \"Phishing\",\n",
        "        \"ransomware\": \"Ransomware\",\n",
        "        \"trojan\": \"Trojan\",\n",
        "        \"worm\": \"Worm\",\n",
        "        \"spyware\": \"Spyware\",\n",
        "        \"ddos\": \"DDoS\",\n",
        "        \"distributed denial of service\": \"DDoS\",\n",
        "        \"zero day\": \"Zero Days\",\n",
        "        \"data breach\": \"Data Breach\",\n",
        "        \"social engineering\": \"Social Engineering\"\n",
        "    }\n",
        "    lower_text = text.lower()\n",
        "    for keyword, category in categories.items():\n",
        "        if keyword in lower_text:\n",
        "            return category\n",
        "    return \"Other\"\n",
        "\n",
        "def labeler(df):\n",
        "    df[\"label\"] = df[\"text\"].apply(categorize)\n",
        "    return df"
      ]
    },
    {
      "cell_type": "code",
      "execution_count": 8,
      "metadata": {
        "colab": {
          "base_uri": "https://localhost:8080/"
        },
        "id": "kxDpS61x98Ac",
        "outputId": "9adf7885-38a6-4c83-8859-80553e6f4ea8"
      },
      "outputs": [
        {
          "output_type": "stream",
          "name": "stdout",
          "text": [
            "data loaded\n",
            "creando modelo\n",
            "Epoch 1/10\n"
          ]
        },
        {
          "output_type": "stream",
          "name": "stderr",
          "text": [
            "/usr/local/lib/python3.11/dist-packages/keras/src/layers/convolutional/base_conv.py:107: UserWarning: Do not pass an `input_shape`/`input_dim` argument to a layer. When using Sequential models, prefer using an `Input(shape)` object as the first layer in the model instead.\n",
            "  super().__init__(activity_regularizer=activity_regularizer, **kwargs)\n"
          ]
        },
        {
          "output_type": "stream",
          "name": "stdout",
          "text": [
            "\u001b[1m97/97\u001b[0m \u001b[32m━━━━━━━━━━━━━━━━━━━━\u001b[0m\u001b[37m\u001b[0m \u001b[1m15s\u001b[0m 87ms/step - accuracy: 0.4700 - loss: 1.7194 - val_accuracy: 0.4890 - val_loss: 1.8989\n",
            "Epoch 2/10\n",
            "\u001b[1m97/97\u001b[0m \u001b[32m━━━━━━━━━━━━━━━━━━━━\u001b[0m\u001b[37m\u001b[0m \u001b[1m1s\u001b[0m 9ms/step - accuracy: 0.5417 - loss: 1.3191 - val_accuracy: 0.5136 - val_loss: 1.4630\n",
            "Epoch 3/10\n",
            "\u001b[1m97/97\u001b[0m \u001b[32m━━━━━━━━━━━━━━━━━━━━\u001b[0m\u001b[37m\u001b[0m \u001b[1m1s\u001b[0m 7ms/step - accuracy: 0.5796 - loss: 1.2156 - val_accuracy: 0.4021 - val_loss: 1.6372\n",
            "Epoch 4/10\n",
            "\u001b[1m97/97\u001b[0m \u001b[32m━━━━━━━━━━━━━━━━━━━━\u001b[0m\u001b[37m\u001b[0m \u001b[1m1s\u001b[0m 8ms/step - accuracy: 0.5886 - loss: 1.1702 - val_accuracy: 0.5149 - val_loss: 1.4629\n",
            "Epoch 5/10\n",
            "\u001b[1m97/97\u001b[0m \u001b[32m━━━━━━━━━━━━━━━━━━━━\u001b[0m\u001b[37m\u001b[0m \u001b[1m1s\u001b[0m 9ms/step - accuracy: 0.5862 - loss: 1.1715 - val_accuracy: 0.3930 - val_loss: 1.5434\n",
            "Epoch 6/10\n",
            "\u001b[1m97/97\u001b[0m \u001b[32m━━━━━━━━━━━━━━━━━━━━\u001b[0m\u001b[37m\u001b[0m \u001b[1m1s\u001b[0m 9ms/step - accuracy: 0.6050 - loss: 1.1519 - val_accuracy: 0.3632 - val_loss: 1.6699\n",
            "Epoch 7/10\n",
            "\u001b[1m97/97\u001b[0m \u001b[32m━━━━━━━━━━━━━━━━━━━━\u001b[0m\u001b[37m\u001b[0m \u001b[1m1s\u001b[0m 9ms/step - accuracy: 0.6302 - loss: 1.0901 - val_accuracy: 0.5071 - val_loss: 1.3687\n",
            "Epoch 8/10\n",
            "\u001b[1m97/97\u001b[0m \u001b[32m━━━━━━━━━━━━━━━━━━━━\u001b[0m\u001b[37m\u001b[0m \u001b[1m1s\u001b[0m 9ms/step - accuracy: 0.6094 - loss: 1.1151 - val_accuracy: 0.5486 - val_loss: 1.3132\n",
            "Epoch 9/10\n",
            "\u001b[1m97/97\u001b[0m \u001b[32m━━━━━━━━━━━━━━━━━━━━\u001b[0m\u001b[37m\u001b[0m \u001b[1m1s\u001b[0m 10ms/step - accuracy: 0.6042 - loss: 1.1282 - val_accuracy: 0.5188 - val_loss: 1.3528\n",
            "Epoch 10/10\n",
            "\u001b[1m97/97\u001b[0m \u001b[32m━━━━━━━━━━━━━━━━━━━━\u001b[0m\u001b[37m\u001b[0m \u001b[1m1s\u001b[0m 9ms/step - accuracy: 0.6243 - loss: 1.0925 - val_accuracy: 0.3580 - val_loss: 1.6127\n"
          ]
        }
      ],
      "source": [
        "def main():\n",
        "    # LOAD\n",
        "    #df = clean_data.limpieza(ldata.ldata1(), ldata.ldata2(), ldata.ldata3())\n",
        "    df = pd.read_csv('/clean_data.csv')\n",
        "    print(\"data loaded\")\n",
        "    #LABEL\n",
        "    df = labeler(df)\n",
        "    print(\"data labeled\")\n",
        "    # SPLIT\n",
        "    x_train, x_test, y_train, y_test = split_data(df)\n",
        "    print(\"data splitted\")\n",
        "    # TOKENIZE\n",
        "    train_texts = x_train.tolist()\n",
        "    val_texts = x_test.tolist()\n",
        "    tokenizer = BertTokenizer.from_pretrained('bert-base-uncased')\n",
        "    train_encodings = token_data(train_texts, tokenizer)\n",
        "    val_encodings = token_data(val_texts,tokenizer)\n",
        "    print(\"data tokenized\")\n",
        "    # Actually training the model\n",
        "    y_train = pd.get_dummies(y_train).values\n",
        "    y_test = pd.get_dummies(y_test).values\n",
        "    inputs = (train_encodings['input_ids'].shape[1], 1)\n",
        "    num = y_train.shape[1]\n",
        "    print(\"creando modelo\")\n",
        "    model = create_model(inputs, num)\n",
        "\n",
        "    model.compile(optimizer='adam', loss='categorical_crossentropy', metrics=['accuracy'])\n",
        "    model.fit(train_encodings['input_ids'],y_train,epochs=10, batch_size=32, validation_data=(val_encodings['input_ids'],y_test))\n",
        "#    y_pred =[] # reemplazar\n",
        "#    y_true = [] # reemplazar\n",
        "#    metrics = performance(y_true, y_pred)\n",
        "#    print(metrics)\n",
        "\n",
        "\n",
        "if __name__ == \"__main__\":\n",
        "    main()"
      ]
    },
    {
      "cell_type": "code",
      "execution_count": null,
      "metadata": {
        "id": "tx6UToW898Ae"
      },
      "outputs": [],
      "source": []
    }
  ],
  "metadata": {
    "language_info": {
      "name": "python"
    },
    "colab": {
      "provenance": [],
      "gpuType": "T4"
    },
    "kernelspec": {
      "name": "python3",
      "display_name": "Python 3"
    },
    "accelerator": "GPU"
  },
  "nbformat": 4,
  "nbformat_minor": 0
}