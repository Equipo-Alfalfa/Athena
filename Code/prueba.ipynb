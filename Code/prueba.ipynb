{
 "cells": [
  {
   "cell_type": "code",
   "execution_count": null,
   "metadata": {},
   "outputs": [],
   "source": [
    "# Idontknowwhatimdoing.py\n",
    "from transformers import BertTokenizer\n",
    "import pandas as pd\n",
    "import tensorflow as tf \n",
    "from tensorflow.keras import layers, models\n",
    "# EL codigo esta modularizado en distintas funciones que me gustaria\n",
    "# exportar a un modulo para tener un proyecto escalable, mantenible y legible"
   ]
  },
  {
   "cell_type": "code",
   "execution_count": null,
   "metadata": {},
   "outputs": [],
   "source": [
    "def load_data(file_path):\n",
    "    return pd.read_csv(file_path)\n",
    "\n",
    "def categorize(text):\n",
    "    if \"malware\" in text.lower():\n",
    "        return \"Malware\"\n",
    "    elif \"ransomware\" in text.lower():\n",
    "        return \"Ransomware\"\n",
    "    elif \"phishing\" in text.lower():\n",
    "        return \"Phishing\"\n",
    "    else:\n",
    "        return \"Other\"\n",
    "\n",
    "def labeler(df):\n",
    "    df[\"label\"] = df[\"text\"].apply(categorize)\n",
    "    return df\n",
    "\n",
    "def split_data(df):\n",
    "    from sklearn.model_selection import train_test_split\n",
    "    x = df['text'] \n",
    "    y = df['label'] \n",
    "    return train_test_split(x,y,test_size = 0.2,random_state=42)\n",
    "\n",
    "def token_data(texts, tokenizer, max_length=512):\n",
    "    encodings = tokenizer(\n",
    "        texts,\n",
    "        truncation=True,\n",
    "        padding=True,\n",
    "        max_length=max_length,\n",
    "        return_tensors='tf' \n",
    "    )\n",
    "    return encodings\n",
    "\n",
    "def create_model(inputs, num):\n",
    "    model = models.Sequential()\n",
    "    model.add(layers.Conv1D(128, 5, activation='relu', input_shape=inputs))\n",
    "    model.add(layers.MaxPooling1D(pool_size=2))\n",
    "    model.add(layers.Conv1D(128, 5, activation='relu', input_shape=inputs))\n",
    "    model.add(layers.MaxPooling1D(pool_size=2))\n",
    "    model.add(layers.Flatten())\n",
    "    model.add(layers.Dense(128, activation = 'relu'))\n",
    "    model.add(layers.Dense(num,activation = 'softmax'))\n",
    "    return model\n"
   ]
  },
  {
   "cell_type": "code",
   "execution_count": null,
   "metadata": {},
   "outputs": [],
   "source": [
    "\n",
    "def main():\n",
    "    # LOAD\n",
    "    df = load_data('datasets/CyberBERT.csv')\n",
    "    #LABEL\n",
    "    df = labeler(df)\n",
    "    # SPLIT\n",
    "    x_train, x_test, y_train, y_test = split_data(df)\n",
    "    # TOKENIZE\n",
    "    train_texts = x_train.tolist()  \n",
    "    val_texts = x_test.tolist()  \n",
    "    tokenizer = BertTokenizer.from_pretrained('bert-base-uncased')\n",
    "    train_encodings = token_data(train_texts, tokenizer)\n",
    "    val_encodings = token_data(val_texts,tokenizer)\n",
    "    # Actually training the model\n",
    "    y_train = pd.get_dummies(y_train).values\n",
    "    y_test = pd.get_dummies(y_test).values\n",
    "    inputs = (train_encodings['input_ids'].shape[1], 1) # no estoy seguro si esto sirve\n",
    "    num = y_train.shape[1]\n",
    "    model = create_model(inputs, num)\n",
    "\n",
    "    model.compile(optimizer='adam', loss='categorical_crossentropy', metrics=['accuracy'])\n",
    "    model.fit(train_encodings['input_ids'],y_train,epochs=5, batch_size=32, validation_data=(val_encodings['input_ids'],y_test))\n",
    "\n"
   ]
  },
  {
   "cell_type": "code",
   "execution_count": null,
   "metadata": {},
   "outputs": [],
   "source": [
    "if __name__ == \"__main__\":\n",
    "    main()"
   ]
  },
  {
   "cell_type": "code",
   "execution_count": null,
   "metadata": {},
   "outputs": [],
   "source": []
  },
  {
   "cell_type": "code",
   "execution_count": null,
   "metadata": {},
   "outputs": [],
   "source": []
  }
 ],
 "metadata": {
  "kernelspec": {
   "display_name": "myenv",
   "language": "python",
   "name": "python3"
  },
  "language_info": {
   "name": "python",
   "version": "3.13.2"
  }
 },
 "nbformat": 4,
 "nbformat_minor": 2
}
